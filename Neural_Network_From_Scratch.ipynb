{
  "nbformat": 4,
  "nbformat_minor": 0,
  "metadata": {
    "colab": {
      "provenance": []
    },
    "kernelspec": {
      "name": "python3",
      "display_name": "Python 3"
    },
    "language_info": {
      "name": "python"
    }
  },
  "cells": [
    {
      "cell_type": "markdown",
      "source": [
        "# **Implementation of neural network from scratch using NumPy**\n",
        "\n"
      ],
      "metadata": {
        "id": "NQYf1b0Dje26"
      }
    },
    {
      "cell_type": "code",
      "execution_count": 2,
      "metadata": {
        "id": "0xCAN8nbjR62"
      },
      "outputs": [],
      "source": [
        "#data set\n",
        "\n",
        "#A\n",
        "a = [0,0,1,1,0,0,\n",
        "     0,1,0,0,1,0,\n",
        "     1,1,1,1,1,1,\n",
        "     1,0,0,0,0,1,\n",
        "     1,0,0,0,0,1]\n",
        "#B\n",
        "b = [0,1,1,1,1,0,\n",
        "     0,1,0,0,1,0,\n",
        "     0,1,1,1,1,0,\n",
        "     0,1,0,0,1,0,\n",
        "     0,1,1,1,1,0]\n",
        "#C\n",
        "c = [0,1,1,1,1,0,\n",
        "     0,1,0,0,0,0,\n",
        "     0,1,0,0,0,0,\n",
        "     0,1,0,0,0,0,\n",
        "     0,1,1,1,1,0]"
      ]
    },
    {
      "cell_type": "code",
      "source": [
        "#create labels\n",
        "y = [[1,0,0],\n",
        "     [0,1,0],\n",
        "     [0,0,1]]"
      ],
      "metadata": {
        "id": "iKPbHmbFlJJ_"
      },
      "execution_count": 3,
      "outputs": []
    },
    {
      "cell_type": "code",
      "source": [
        "import numpy as np\n",
        "import matplotlib.pyplot as plt"
      ],
      "metadata": {
        "id": "SC4jp-pdlw49"
      },
      "execution_count": 4,
      "outputs": []
    },
    {
      "cell_type": "code",
      "source": [
        "#visualize the data\n",
        "plt.imshow(np.array(a).reshape(5,6))\n",
        "plt.show"
      ],
      "metadata": {
        "colab": {
          "base_uri": "https://localhost:8080/",
          "height": 599
        },
        "id": "Lj6ZZmZPl1U7",
        "outputId": "6968f693-9655-42df-b4ae-f2672309f1ad"
      },
      "execution_count": 5,
      "outputs": [
        {
          "output_type": "execute_result",
          "data": {
            "text/plain": [
              "<function matplotlib.pyplot.show(close=None, block=None)>"
            ],
            "text/html": [
              "<div style=\"max-width:800px; border: 1px solid var(--colab-border-color);\"><style>\n",
              "      pre.function-repr-contents {\n",
              "        overflow-x: auto;\n",
              "        padding: 8px 12px;\n",
              "        max-height: 500px;\n",
              "      }\n",
              "\n",
              "      pre.function-repr-contents.function-repr-contents-collapsed {\n",
              "        cursor: pointer;\n",
              "        max-height: 100px;\n",
              "      }\n",
              "    </style>\n",
              "    <pre style=\"white-space: initial; background:\n",
              "         var(--colab-secondary-surface-color); padding: 8px 12px;\n",
              "         border-bottom: 1px solid var(--colab-border-color);\"><b>matplotlib.pyplot.show</b><br/>def show(*args, **kwargs)</pre><pre class=\"function-repr-contents function-repr-contents-collapsed\" style=\"\"><a class=\"filepath\" style=\"display:none\" href=\"#\">/usr/local/lib/python3.10/dist-packages/matplotlib/pyplot.py</a>Display all open figures.\n",
              "\n",
              "Parameters\n",
              "----------\n",
              "block : bool, optional\n",
              "    Whether to wait for all figures to be closed before returning.\n",
              "\n",
              "    If `True` block and run the GUI main loop until all figure windows\n",
              "    are closed.\n",
              "\n",
              "    If `False` ensure that all figure windows are displayed and return\n",
              "    immediately.  In this case, you are responsible for ensuring\n",
              "    that the event loop is running to have responsive figures.\n",
              "\n",
              "    Defaults to True in non-interactive mode and to False in interactive\n",
              "    mode (see `.pyplot.isinteractive`).\n",
              "\n",
              "See Also\n",
              "--------\n",
              "ion : Enable interactive mode, which shows / updates the figure after\n",
              "      every plotting command, so that calling ``show()`` is not necessary.\n",
              "ioff : Disable interactive mode.\n",
              "savefig : Save the figure to an image file instead of showing it on screen.\n",
              "\n",
              "Notes\n",
              "-----\n",
              "**Saving figures to file and showing a window at the same time**\n",
              "\n",
              "If you want an image file as well as a user interface window, use\n",
              "`.pyplot.savefig` before `.pyplot.show`. At the end of (a blocking)\n",
              "``show()`` the figure is closed and thus unregistered from pyplot. Calling\n",
              "`.pyplot.savefig` afterwards would save a new and thus empty figure. This\n",
              "limitation of command order does not apply if the show is non-blocking or\n",
              "if you keep a reference to the figure and use `.Figure.savefig`.\n",
              "\n",
              "**Auto-show in jupyter notebooks**\n",
              "\n",
              "The jupyter backends (activated via ``%matplotlib inline``,\n",
              "``%matplotlib notebook``, or ``%matplotlib widget``), call ``show()`` at\n",
              "the end of every cell by default. Thus, you usually don&#x27;t have to call it\n",
              "explicitly there.</pre>\n",
              "      <script>\n",
              "      if (google.colab.kernel.accessAllowed && google.colab.files && google.colab.files.view) {\n",
              "        for (const element of document.querySelectorAll('.filepath')) {\n",
              "          element.style.display = 'block'\n",
              "          element.onclick = (event) => {\n",
              "            event.preventDefault();\n",
              "            event.stopPropagation();\n",
              "            google.colab.files.view(element.textContent, 401);\n",
              "          };\n",
              "        }\n",
              "      }\n",
              "      for (const element of document.querySelectorAll('.function-repr-contents')) {\n",
              "        element.onclick = (event) => {\n",
              "          event.preventDefault();\n",
              "          event.stopPropagation();\n",
              "          element.classList.toggle('function-repr-contents-collapsed');\n",
              "        };\n",
              "      }\n",
              "      </script>\n",
              "      </div>"
            ]
          },
          "metadata": {},
          "execution_count": 5
        },
        {
          "output_type": "display_data",
          "data": {
            "text/plain": [
              "<Figure size 640x480 with 1 Axes>"
            ],
            "image/png": "[encoded data removed]"
          },
          "metadata": {}
        }
      ]
    },
    {
      "cell_type": "code",
      "source": [
        "# convert data and labels into numpy array\n",
        "x = [np.array(a).reshape(1,30),np.array(b).reshape(1,30),np.array(c).reshape(1,30)]\n",
        "y = np.array(y)\n",
        "\n",
        "print(x, \"\\n\\n\", y)"
      ],
      "metadata": {
        "colab": {
          "base_uri": "https://localhost:8080/"
        },
        "id": "JVPj9BWSmBW4",
        "outputId": "08397be4-b37b-4ef3-bb8b-23c088bc27de"
      },
      "execution_count": 6,
      "outputs": [
        {
          "output_type": "stream",
          "name": "stdout",
          "text": [
            "[array([[0, 0, 1, 1, 0, 0, 0, 1, 0, 0, 1, 0, 1, 1, 1, 1, 1, 1, 1, 0, 0, 0,\n",
            "        0, 1, 1, 0, 0, 0, 0, 1]]), array([[0, 1, 1, 1, 1, 0, 0, 1, 0, 0, 1, 0, 0, 1, 1, 1, 1, 0, 0, 1, 0, 0,\n",
            "        1, 0, 0, 1, 1, 1, 1, 0]]), array([[0, 1, 1, 1, 1, 0, 0, 1, 0, 0, 0, 0, 0, 1, 0, 0, 0, 0, 0, 1, 0, 0,\n",
            "        0, 0, 0, 1, 1, 1, 1, 0]])] \n",
            "\n",
            " [[1 0 0]\n",
            " [0 1 0]\n",
            " [0 0 1]]\n"
          ]
        }
      ]
    },
    {
      "cell_type": "code",
      "source": [
        "#input layer (1,30)\n",
        "#hidden layer (1,5)\n",
        "#output layer (3,3)"
      ],
      "metadata": {
        "id": "BXthfYL5mxKp"
      },
      "execution_count": 7,
      "outputs": []
    },
    {
      "cell_type": "code",
      "source": [
        "#activation function\n",
        "def sigmoid(x):\n",
        "  return (1/(1+np.exp(-x)))"
      ],
      "metadata": {
        "id": "7AA95sw5nARB"
      },
      "execution_count": 8,
      "outputs": []
    },
    {
      "cell_type": "code",
      "source": [
        "#creating forward NN\n",
        "def f_forward(x,w1,w2):\n",
        "  #hidden layer\n",
        "  z1 = x.dot(w1)\n",
        "  a1 = sigmoid(z1)\n",
        "  #output layer\n",
        "  z2 = a1.dot(w2)\n",
        "  a2 = sigmoid(z2)\n",
        "  return (a2)"
      ],
      "metadata": {
        "id": "cx2pK-u4nLiO"
      },
      "execution_count": 9,
      "outputs": []
    },
    {
      "cell_type": "code",
      "source": [
        "#intialize the weights\n",
        "def generate_wt(x,y):\n",
        "  l = []\n",
        "  for i in range(x*y):\n",
        "    l.append(np.random.randn())\n",
        "  return (np.array(l).reshape(x,y))"
      ],
      "metadata": {
        "id": "L4aEdTLSnm1z"
      },
      "execution_count": 10,
      "outputs": []
    },
    {
      "cell_type": "code",
      "source": [
        "def loss(out,Y):\n",
        "  s = (np.square(out-Y))\n",
        "  s = np.sum(s)/len(y)\n",
        "  return(s)"
      ],
      "metadata": {
        "id": "OWwpuWbgn7b9"
      },
      "execution_count": 11,
      "outputs": []
    },
    {
      "cell_type": "code",
      "source": [
        "#back propagation\n",
        "def back_prop(x,y,w1,w2,alpha):\n",
        "  #hidden layer\n",
        "  z1 = x.dot(w1)\n",
        "  a1 = sigmoid(z1)\n",
        "  #output layer\n",
        "  z2 = a1.dot(w2)\n",
        "  a2 = sigmoid(z2)\n",
        "\n",
        "  d2 = (a2-y)\n",
        "  d1 = np.multiply((w2.dot(d2.transpose())).transpose(), np.multiply(a1, (1-a1)))\n",
        "\n",
        "  #gradient\n",
        "  w1_adj = x.transpose().dot(d1)\n",
        "  w2_adj = a1.transpose().dot(d2)\n",
        "\n",
        "  #update weights\n",
        "  w1 = w1-(alpha*(w1_adj))\n",
        "  w2 = w2-(alpha*(w2_adj))\n",
        "  return (w1,w2)"
      ],
      "metadata": {
        "id": "umvXts4JoKUW"
      },
      "execution_count": 12,
      "outputs": []
    },
    {
      "cell_type": "code",
      "source": [
        "def train(x,Y,w1,w2,alpha=0.01,epoch=10):\n",
        "  acc =[]\n",
        "  loss_values = []\n",
        "  for j in range(epoch):\n",
        "    l = []\n",
        "    for i in range(len(x)):\n",
        "      out = f_forward(x[i],w1,w2)\n",
        "      l.append((loss(out,Y[i])))\n",
        "      w1,w2 = back_prop(x[i],y[i],w1,w2,alpha)\n",
        "    print(\"Epochs:\", j+1, \"acc:\", (1-(sum(l)/len(x)))*100)\n",
        "    acc.append((1-(sum(l)/len(x)))*100)\n",
        "    loss_values.append(sum(l)/len(x))\n",
        "  return(acc,loss_values,w1,w2)"
      ],
      "metadata": {
        "id": "Q4NahRYypPqL"
      },
      "execution_count": 13,
      "outputs": []
    },
    {
      "cell_type": "code",
      "source": [
        "def predict(x,w1,w2):\n",
        "  Out = f_forward(x,w1,w2)\n",
        "  maxm=0\n",
        "  k=0\n",
        "  for i in range(len(Out[0])):\n",
        "    if(maxm<Out[0][i]):\n",
        "      maxm=Out[0][i]\n",
        "      k=i\n",
        "  if(k==0):\n",
        "    print(\"Image is of letter A\")\n",
        "  elif(k==1):\n",
        "    print(\"Image is of letter B\")\n",
        "  else:\n",
        "    print(\"Image is of letter C\")\n",
        "  plt.imshow(x.reshape(5,6))\n",
        "  plt.show()"
      ],
      "metadata": {
        "id": "T9ELXkukqtRL"
      },
      "execution_count": 14,
      "outputs": []
    },
    {
      "cell_type": "code",
      "source": [
        "w1 = generate_wt(30,5)\n",
        "w2 = generate_wt(5,3)\n",
        "print(w1,\"\\n\",w2)"
      ],
      "metadata": {
        "colab": {
          "base_uri": "https://localhost:8080/"
        },
        "id": "enfc_LQFr80c",
        "outputId": "3a475cca-ec6d-4a92-d272-c94a965a9674"
      },
      "execution_count": 15,
      "outputs": [
        {
          "output_type": "stream",
          "name": "stdout",
          "text": [
            "[[-0.33811774  0.3077445  -1.89253592  0.65848852  0.87860065]\n",
            " [-1.23437698 -1.35277627 -0.70509598  0.26871035 -1.14050296]\n",
            " [ 0.04395771  1.18105261  0.49116914 -0.6943818  -0.03908666]\n",
            " [-1.15926792 -0.22671544 -0.57297703 -0.97436613 -0.07526491]\n",
            " [ 1.02312144 -0.13902299  1.20310485  0.82407079 -0.4266386 ]\n",
            " [ 0.40446445  0.58520325  1.08807418  1.00757167  0.74318151]\n",
            " [ 0.26471714 -0.19262913 -1.14569756 -0.96124162  2.4303602 ]\n",
            " [-0.3808874   0.18525164 -0.03199654 -0.7684964  -0.52671849]\n",
            " [ 0.2911312  -0.4231019   1.62551607  1.04876253  1.4022357 ]\n",
            " [ 1.93613018 -0.48530929  0.36290928  0.18894407 -0.67345622]\n",
            " [ 1.11613158  1.3338003  -0.39846418 -1.39225453 -0.02348524]\n",
            " [-0.12200364 -0.17069316 -0.28939157 -0.61526904 -0.96882125]\n",
            " [-0.98795155 -1.05297837 -0.04723226  0.71099479  0.79885635]\n",
            " [-0.34111784  0.81296023 -0.50627545 -0.66411922 -0.38019266]\n",
            " [ 0.20184583 -2.65031523 -0.65543821 -1.0624694  -0.56982037]\n",
            " [-0.13650813  0.10229767 -0.85291161  0.35632682  1.50986963]\n",
            " [-0.29827687 -0.10523506  0.45959004 -0.14285871  0.38129543]\n",
            " [-0.2704026  -0.71448244 -0.21768541  0.6241788   0.47020468]\n",
            " [-1.12994923  1.55416862  0.51841896  1.95732761 -0.94538315]\n",
            " [ 1.10012832 -0.47628284  0.80962061  0.95406134  0.21816142]\n",
            " [ 0.58519705  1.82749615 -1.53167345 -0.77011744  0.03357388]\n",
            " [ 1.19722889 -0.73879645  1.98911034 -1.5970086  -0.24535415]\n",
            " [-1.29873885 -1.33525456  0.97140678 -1.15765784  0.66354135]\n",
            " [ 0.69264282  0.60080848  0.07595158 -0.12288122  0.65972452]\n",
            " [ 1.62315769  0.71432259  0.64607347  0.74867415 -0.72264172]\n",
            " [-1.09467856  0.84313051 -0.71358618  0.72662684  1.5803819 ]\n",
            " [-1.60613498  0.41277973  0.49666996 -0.24831799  0.97042256]\n",
            " [-0.8823332  -0.59140338  1.23614013  0.97287946 -1.88836159]\n",
            " [-1.26476891  0.67253483  0.50778525  0.61948007 -0.52436439]\n",
            " [-0.92815447  0.603161   -0.83691044 -0.20841352  0.40659012]] \n",
            " [[ 1.32542006 -0.19545727 -1.743995  ]\n",
            " [-0.07677165  1.05457315 -2.30312165]\n",
            " [-0.13556218  0.43317226  1.08555916]\n",
            " [ 1.4679589  -0.67891086  0.27761304]\n",
            " [-0.05359081  0.25314994 -0.72459688]]\n"
          ]
        }
      ]
    },
    {
      "cell_type": "code",
      "source": [
        "acc,loss,w1,w2 = train(x,y,w1,w2,0.1,100)"
      ],
      "metadata": {
        "colab": {
          "base_uri": "https://localhost:8080/"
        },
        "id": "Wo9MBr-4xjiA",
        "outputId": "16bc80d4-a20c-4de8-85f6-467a38e3b196"
      },
      "execution_count": 16,
      "outputs": [
        {
          "output_type": "stream",
          "name": "stdout",
          "text": [
            "Epochs: 1 acc: 68.0073350818638\n",
            "Epochs: 2 acc: 70.23240575977734\n",
            "Epochs: 3 acc: 72.3093251894817\n",
            "Epochs: 4 acc: 74.25846804279257\n",
            "Epochs: 5 acc: 76.1008767875415\n",
            "Epochs: 6 acc: 77.85239129941384\n",
            "Epochs: 7 acc: 79.51831014238205\n",
            "Epochs: 8 acc: 81.0907402087053\n",
            "Epochs: 9 acc: 82.5520681309677\n",
            "Epochs: 10 acc: 83.88423001613474\n",
            "Epochs: 11 acc: 85.07708062609534\n",
            "Epochs: 12 acc: 86.13043457847975\n",
            "Epochs: 13 acc: 87.05187667932877\n",
            "Epochs: 14 acc: 87.85423247315227\n",
            "Epochs: 15 acc: 88.553344356995\n",
            "Epochs: 16 acc: 89.16578187482365\n",
            "Epochs: 17 acc: 89.70694344457699\n",
            "Epochs: 18 acc: 90.19002913531745\n",
            "Epochs: 19 acc: 90.62580877973197\n",
            "Epochs: 20 acc: 91.02283899335345\n",
            "Epochs: 21 acc: 91.38783792320982\n",
            "Epochs: 22 acc: 91.7260629590767\n",
            "Epochs: 23 acc: 92.04163365659194\n",
            "Epochs: 24 acc: 92.33778962989176\n",
            "Epochs: 25 acc: 92.61709080922957\n",
            "Epochs: 26 acc: 92.88157152264172\n",
            "Epochs: 27 acc: 93.13285898308533\n",
            "Epochs: 28 acc: 93.37226464309336\n",
            "Epochs: 29 acc: 93.60085483850894\n",
            "Epochs: 30 acc: 93.81950552458314\n",
            "Epochs: 31 acc: 94.02894471098593\n",
            "Epochs: 32 acc: 94.2297853355156\n",
            "Epochs: 33 acc: 94.42255068549348\n",
            "Epochs: 34 acc: 94.60769400831049\n",
            "Epochs: 35 acc: 94.78561359805029\n",
            "Epochs: 36 acc: 94.95666437048716\n",
            "Epochs: 37 acc: 95.12116672265387\n",
            "Epochs: 38 acc: 95.279413301554\n",
            "Epochs: 39 acc: 95.43167416986523\n",
            "Epochs: 40 acc: 95.57820074770001\n",
            "Epochs: 41 acc: 95.71922882333286\n",
            "Epochs: 42 acc: 95.8549808579907\n",
            "Epochs: 43 acc: 95.9856677568055\n",
            "Epochs: 44 acc: 96.11149023690984\n",
            "Epochs: 45 acc: 96.2326398919725\n",
            "Epochs: 46 acc: 96.34930002821267\n",
            "Epochs: 47 acc: 96.46164632845975\n",
            "Epochs: 48 acc: 96.56984738682357\n",
            "Epochs: 49 acc: 96.67406514596766\n",
            "Epochs: 50 acc: 96.77445526101384\n",
            "Epochs: 51 acc: 96.8711674081193\n",
            "Epochs: 52 acc: 96.96434555126959\n",
            "Epochs: 53 acc: 97.05412817745183\n",
            "Epochs: 54 acc: 97.14064850783389\n",
            "Epochs: 55 acc: 97.22403469066285\n",
            "Epochs: 56 acc: 97.30440998015716\n",
            "Epochs: 57 acc: 97.38189290457908\n",
            "Epochs: 58 acc: 97.45659742585231\n",
            "Epochs: 59 acc: 97.52863309246821\n",
            "Epochs: 60 acc: 97.5981051869533\n",
            "Epochs: 61 acc: 97.66511486881495\n",
            "Epochs: 62 acc: 97.72975931361367\n",
            "Epochs: 63 acc: 97.79213184860916\n",
            "Epochs: 64 acc: 97.85232208527653\n",
            "Epochs: 65 acc: 97.91041604887862\n",
            "Epochs: 66 acc: 97.96649630519919\n",
            "Epochs: 67 acc: 98.0206420844849\n",
            "Epochs: 68 acc: 98.07292940260442\n",
            "Epochs: 69 acc: 98.12343117940664\n",
            "Epochs: 70 acc: 98.1722173542461\n",
            "Epochs: 71 acc: 98.21935499863437\n",
            "Epochs: 72 acc: 98.26490842597583\n",
            "Epochs: 73 acc: 98.30893929834797\n",
            "Epochs: 74 acc: 98.35150673029234\n",
            "Epochs: 75 acc: 98.39266738958902\n",
            "Epochs: 76 acc: 98.4324755949968\n",
            "Epochs: 77 acc: 98.47098341095042\n",
            "Epochs: 78 acc: 98.50824073921535\n",
            "Epochs: 79 acc: 98.54429540751075\n",
            "Epochs: 80 acc: 98.57919325511965\n",
            "Epochs: 81 acc: 98.61297821551439\n",
            "Epochs: 82 acc: 98.64569239603298\n",
            "Epochs: 83 acc: 98.67737615464937\n",
            "Epochs: 84 acc: 98.70806817388676\n",
            "Epochs: 85 acc: 98.73780553192947\n",
            "Epochs: 86 acc: 98.7666237709925\n",
            "Epochs: 87 acc: 98.79455696301336\n",
            "Epochs: 88 acc: 98.82163777273354\n",
            "Epochs: 89 acc: 98.84789751823945\n",
            "Epochs: 90 acc: 98.87336622903578\n",
            "Epochs: 91 acc: 98.89807270172494\n",
            "Epochs: 92 acc: 98.92204455336767\n",
            "Epochs: 93 acc: 98.94530827260054\n",
            "Epochs: 94 acc: 98.9678892685863\n",
            "Epochs: 95 acc: 98.98981191787263\n",
            "Epochs: 96 acc: 99.0110996092345\n",
            "Epochs: 97 acc: 99.03177478657464\n",
            "Epochs: 98 acc: 99.05185898995524\n",
            "Epochs: 99 acc: 99.0713728948332\n",
            "Epochs: 100 acc: 99.09033634956953\n"
          ]
        }
      ]
    },
    {
      "cell_type": "code",
      "source": [
        "import matplotlib.pyplot as plt1\n",
        "\n",
        "#plotting accuracy\n",
        "plt1.plot(acc)\n",
        "plt.ylabel('Accuracy')\n",
        "plt.xlabel('Epochs:')\n",
        "plt1.show()"
      ],
      "metadata": {
        "colab": {
          "base_uri": "https://localhost:8080/",
          "height": 449
        },
        "id": "69v0RleesrqF",
        "outputId": "80758549-9585-4fdd-9999-3b43c2d532b4"
      },
      "execution_count": 17,
      "outputs": [
        {
          "output_type": "display_data",
          "data": {
            "text/plain": [
              "<Figure size 640x480 with 1 Axes>"
            ],
            "image/png": "[encoded data removed]"
          },
          "metadata": {}
        }
      ]
    },
    {
      "cell_type": "code",
      "source": [
        "#plot loss\n",
        "plt1.plot(loss)\n",
        "plt.ylabel('Loss')\n",
        "plt.xlabel('Epochs:')\n",
        "plt1.show()"
      ],
      "metadata": {
        "colab": {
          "base_uri": "https://localhost:8080/",
          "height": 449
        },
        "id": "ZyT4DPVRvdlL",
        "outputId": "5e76fb0a-ee45-4711-9124-a98f25fc8ada"
      },
      "execution_count": 18,
      "outputs": [
        {
          "output_type": "display_data",
          "data": {
            "text/plain": [
              "<Figure size 640x480 with 1 Axes>"
            ],
            "image/png": "[encoded data removed]"
          },
          "metadata": {}
        }
      ]
    },
    {
      "cell_type": "code",
      "source": [
        "predict(x[2],w1,w2)"
      ],
      "metadata": {
        "colab": {
          "base_uri": "https://localhost:8080/",
          "height": 447
        },
        "id": "-eC4CGUgMPtE",
        "outputId": "de23a123-aa3b-49e7-97a4-0383b4978854"
      },
      "execution_count": 19,
      "outputs": [
        {
          "output_type": "stream",
          "name": "stdout",
          "text": [
            "Image is of letter C\n"
          ]
        },
        {
          "output_type": "display_data",
          "data": {
            "text/plain": [
              "<Figure size 640x480 with 1 Axes>"
            ],
            "image/png": "[encoded data removed]"
          },
          "metadata": {}
        }
      ]
    },
    {
      "cell_type": "code",
      "source": [
        "predict(x[1],w1,w2)"
      ],
      "metadata": {
        "colab": {
          "base_uri": "https://localhost:8080/",
          "height": 447
        },
        "id": "2JidjlJrMPeh",
        "outputId": "127da46a-b673-4e35-a09c-a2118744edce"
      },
      "execution_count": 20,
      "outputs": [
        {
          "output_type": "stream",
          "name": "stdout",
          "text": [
            "Image is of letter B\n"
          ]
        },
        {
          "output_type": "display_data",
          "data": {
            "text/plain": [
              "<Figure size 640x480 with 1 Axes>"
            ],
            "image/png": "[encoded data removed]"
          },
          "metadata": {}
        }
      ]
    },
    {
      "cell_type": "code",
      "source": [
        "predict(x[0],w1,w2)"
      ],
      "metadata": {
        "colab": {
          "base_uri": "https://localhost:8080/",
          "height": 447
        },
        "id": "5nKOcGW4MO67",
        "outputId": "4ac03f5c-cb06-488f-b94a-ac54fce76d5e"
      },
      "execution_count": 21,
      "outputs": [
        {
          "output_type": "stream",
          "name": "stdout",
          "text": [
            "Image is of letter A\n"
          ]
        },
        {
          "output_type": "display_data",
          "data": {
            "text/plain": [
              "<Figure size 640x480 with 1 Axes>"
            ],
            "image/png": "[encoded data removed]"
          },
          "metadata": {}
        }
      ]
    }
  ]
}